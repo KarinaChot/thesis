{
 "cells": [
  {
   "cell_type": "code",
   "execution_count": null,
   "metadata": {},
   "outputs": [],
   "source": [
    "#извлекаем количество персонажей в сценарии \n",
    "\n",
    "import re\n",
    "def extract_hero(line):\n",
    "    m = re.match(\"( *)([A-Z\\.]{2,}[A-Z \\.]*)\", line)\n",
    "    if not m:\n",
    "        return\n",
    "    indent = len(m.group(1))\n",
    "    if indent > 19 and indent < 45:\n",
    "        return m.group(2).strip()\n",
    "    \n",
    "def get_the_number_of_heroes(folder_input,folder_output):\n",
    "    list_film_heroes = []\n",
    "    film_num_heroes = []\n",
    "    film_and_heroes = []\n",
    "    folder = os.listdir(folder_input)\n",
    "    stoplist = set(['\"THE END\", \"CONTINUED\", \"INT.\", \"EXT.\", \"FADE IN\", \"FADE OUT\", \"CUT TO\",\"DISSOLVE TO\",\" EARLY DRAFT\"'\n",
    "                   '\"CLOSEUP\",\"CLOSE UP\",\"WIDE VIEW\",\"LONG SHOT\",\"MEDIUM\",\"MEDIUM SHOT\",\"MEDIUM SHOT.\",'\n",
    "                   '\"MEDIUM CLOSE SHOT\",\"MEDIUM CLOSEUP\",\"MED.CLOSE SHOT\",\"MEDIUM\", \"LONG SHOT\",\"MED. LONG SHOT\",'\n",
    "                   '\"EXTREME CLOSE UP\",\"EXTREME CLOSE\",\"EXTREME CLOSEUPS\",\"PAN RIGHT\",\"PAN LEFT\",\"PAN UP\",\"PAN DOWN\",'\n",
    "                   '\"TILT UP\",\"TILT DOWN\",\"TILT RIGHT\",\"TILT LEFT\",\"POINT OF VIEW\",\"SLOW MOTION\",\"FAST MOTION\"'\n",
    "                   '\"SLO-MO\",\"ZOOM OUT\",\"ZOOM BACK\",\"ZOOM IN\"'])\n",
    "    \n",
    "    for filename in folder:\n",
    "        if '.txt' in filename:\n",
    "            with open(folder_input+filename, encoding=\"utf8\", errors='ignore') as f:\n",
    "                my_heroes = {}\n",
    "                for line in f:\n",
    "                    hero = extract_hero(line)\n",
    "                    if (hero and hero not in stoplist and \n",
    "                        hero!=f.name.split(\"/\")[-1].replace(\".txt\",\"\").strip().upper()):\n",
    "                            my_heroes[hero] = 0\n",
    "                list_film_heroes.append((filename.replace(\".txt\",\"\"),my_heroes))\n",
    "\n",
    "    for element in list_film_heroes:\n",
    "        name  = element[0].split(\";\") \n",
    "        heroes = list(element[1])\n",
    "        film_and_heroes.append((name,heroes))\n",
    "        \n",
    "    for i,element in enumerate(film_and_heroes):\n",
    "        name_of_h = element[0]\n",
    "        length = len(element[1])\n",
    "        name_of_h.append(length)\n",
    "        film_num_heroes.append(name_of_h)\n",
    "\n",
    "    df=pd.DataFrame(film_num_heroes, columns = ('year', 'genre','film title', 'number of heroes'))\n",
    "    df.to_csv(folder_output+'_how_many_heroes_in_film.csv',index =True)"
   ]
  }
 ],
 "metadata": {
  "kernelspec": {
   "display_name": "Python 3",
   "language": "python",
   "name": "python3"
  },
  "language_info": {
   "codemirror_mode": {
    "name": "ipython",
    "version": 3
   },
   "file_extension": ".py",
   "mimetype": "text/x-python",
   "name": "python",
   "nbconvert_exporter": "python",
   "pygments_lexer": "ipython3",
   "version": "3.6.5"
  }
 },
 "nbformat": 4,
 "nbformat_minor": 2
}
