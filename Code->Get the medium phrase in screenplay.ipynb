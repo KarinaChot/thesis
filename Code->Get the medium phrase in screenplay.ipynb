{
 "cells": [
  {
   "cell_type": "code",
   "execution_count": null,
   "metadata": {},
   "outputs": [],
   "source": [
    "def get_the_medium_len__phrase(folder_input,folder_output):\n",
    "    hero_len_line = {}\n",
    "    the_end_file = []\n",
    "    film_mean_line = []\n",
    "    folder = os.listdir(folder_input)\n",
    "    for filename in folder:\n",
    "        if '.csv'in filename:\n",
    "            with open(folder_input+filename, encoding=\"utf8\", errors='ignore') as f:\n",
    "                df=pd.read_csv(f)\n",
    "                replics = df.dropna().values.tolist()\n",
    "            for element in replics:\n",
    "                if element[0].isdigit()==False:#не считаем  реплику с цифрой в имени\n",
    "                    if element[0].strip():  #не считаем  пустое имя героя\n",
    "                        if not element[1].replace('.','').isdigit(): #елси реплика только цифра \n",
    "                            length = len(element[1].replace(\"-\",\"\").replace(\"*\",\"\").replace(\"...\",\" \").split())\n",
    "                            the_file = filename.replace(\".csv\",\"\").replace(\".txt\",\"\").replace(\"txt\",\"\").strip()\n",
    "                            if the_file not in hero_len_line:\n",
    "                                hero_len_line[the_file] = []\n",
    "                            hero_len_line[the_file].append(length)\n",
    "    for key, value in hero_len_line.items():\n",
    "        the_title = key.split(\";\")\n",
    "        the_title.append(median(value))\n",
    "        the_title.append(max(value))\n",
    "        the_end_file.append(the_title)\n",
    "    data = pd.DataFrame(the_end_file,columns = [\"year\",\"genre\",\"title\",\"mean length\",\"max length\"])\n",
    "    data.to_csv(folder_output+'_mean_length.csv', index=True)"
   ]
  }
 ],
 "metadata": {
  "kernelspec": {
   "display_name": "Python 3",
   "language": "python",
   "name": "python3"
  },
  "language_info": {
   "codemirror_mode": {
    "name": "ipython",
    "version": 3
   },
   "file_extension": ".py",
   "mimetype": "text/x-python",
   "name": "python",
   "nbconvert_exporter": "python",
   "pygments_lexer": "ipython3",
   "version": "3.6.5"
  }
 },
 "nbformat": 4,
 "nbformat_minor": 2
}
